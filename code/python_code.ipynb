{
 "cells": [
  {
   "cell_type": "markdown",
   "metadata": {},
   "source": [
    "#### Task\n",
    "create a bi-classifier using one labelled training data\n",
    "\n",
    "#### Methodology\n",
    "- Treating the project as an anamoly detection, using the training i'll be creating a boundary that'll help detect any novelty data points.\n",
    "- After data import, i checked the columns for any null or empty values. Completely null columns were dropped from the dataset and missing values were filled in using the mode of that column. Using mode seemed the best way to go, instead of using a mean value.\n",
    "- Decided to use Support Vector Machine (SVM) algorithim for one class classification as its best suited for this type of training data. That is, dataset that contains only one class and we need to detect whether a new data point is an outlier. \n",
    "- For this project, i'll be using sklearn library's OneSVM model to model and predict the results.\n",
    "- The kernel used for this project was \"rbf\", i initially tried polynomial support vectors but accuracy was low for that\n",
    "- Results were evalueated based on precision, recall and f1 score mainly. In anamoly detection problems, its easier to get a higher accuracy however precision and recall provide a better sense of how good the model is.\n",
    "\n",
    "#### Possible Improvements\n",
    "- Try using Principal Component Analysis to extarct main featuers and train the model using those features only\n",
    "- With a bi-labeled dataset train a deep neural network to classify \"0\" and \"1\" cases. In this case we would need to use under or over sampling methods to improve the performance of the network.\n",
    "- At the end of this notebook, i have provided a rough idea of how we can use the neural network using Keras. Please note i was only using the one label training data in the Neural Network for demonstration purposes."
   ]
  },
  {
   "cell_type": "markdown",
   "metadata": {},
   "source": [
    "### LIBRARIES USED"
   ]
  },
  {
   "cell_type": "code",
   "execution_count": 1,
   "metadata": {},
   "outputs": [
    {
     "name": "stderr",
     "output_type": "stream",
     "text": [
      "Using TensorFlow backend.\n"
     ]
    }
   ],
   "source": [
    "import pandas as pd\n",
    "import numpy as np\n",
    "import matplotlib.pyplot as plt\n",
    "from scipy import stats\n",
    "\n",
    "from sklearn.metrics import accuracy_score\n",
    "from sklearn.metrics import confusion_matrix\n",
    "\n",
    "from keras.models import Sequential\n",
    "from keras.layers import Dense, Activation, Dropout\n",
    "from keras.optimizers import SGD, Adadelta, Adagrad, Adam, RMSprop\n",
    "\n",
    "#nltk.download ()\n",
    "np.random.seed(0)"
   ]
  },
  {
   "cell_type": "markdown",
   "metadata": {},
   "source": [
    "### DATA UPLOAD"
   ]
  },
  {
   "cell_type": "code",
   "execution_count": 2,
   "metadata": {},
   "outputs": [
    {
     "name": "stdout",
     "output_type": "stream",
     "text": [
      "df train count 2833 and df test count 959\n"
     ]
    }
   ],
   "source": [
    "# Making a list of missing value types\n",
    "missing_values = [\"n/a\", \"na\", \"--\"]\n",
    "\n",
    "df_train = pd.read_csv(\"//Users//saad//Desktop//Neilsen//DatasetInterview-2019//trainingData.csv\",na_values = missing_values)\n",
    "df_test = pd.read_csv(\"//Users//saad//Desktop//Neilsen//DatasetInterview-2019//testingData.csv\",na_values = missing_values)\n",
    "\n",
    "df_train_row_count = df_train.shape[0]\n",
    "df_test_row_count = df_test.shape[0]\n",
    "\n",
    "print(\"df train count %d and df test count %d\" %(df_train_row_count,df_test_row_count))"
   ]
  },
  {
   "cell_type": "markdown",
   "metadata": {},
   "source": [
    "### DATA EXPLORATION - CHECKING FOR NA VALUES AND REPLACING THEM"
   ]
  },
  {
   "cell_type": "code",
   "execution_count": 3,
   "metadata": {},
   "outputs": [],
   "source": [
    "#get all na column count -  this is to check which fields are null or which values are missing\n",
    "\n",
    "def na_col_count (df_object):\n",
    "    df = df_object.copy()\n",
    "    col_names_list = list(df.columns.values)\n",
    "    na_val_dict = {}\n",
    "\n",
    "    for col in col_names_list:\n",
    "        col_null_count = sum(df[col].isnull())\n",
    "        if col_null_count > 0:\n",
    "            na_val_dict[col] = col_null_count\n",
    "    \n",
    "    return na_val_dict\n"
   ]
  },
  {
   "cell_type": "code",
   "execution_count": 4,
   "metadata": {},
   "outputs": [],
   "source": [
    "#find null values and fill them up - i'm using mode to replace null values\n",
    "\n",
    "def find_replace_na (df_object,total_row_count):\n",
    "    df = df_object.copy()\n",
    "    col_names_list = list(df.columns.values)\n",
    "    col_to_drop = []\n",
    "    \n",
    "    for col in col_names_list:\n",
    "        col_null_count = sum(df[col].isnull())\n",
    "        if col_null_count == total_row_count:\n",
    "            col_to_drop.append(col)\n",
    "            #df_train.drop(columns=[col])\n",
    "        elif col_null_count > 0 and col_null_count < total_row_count:\n",
    "            col_mode_val = stats.mode(df[col].values)\n",
    "            df[col] = df[col].fillna(col_mode_val[0][0])\n",
    "\n",
    "    df = df.drop(columns=col_to_drop)\n",
    "    \n",
    "    return df\n",
    "\n",
    "#clean dataframe\n",
    "df_train_clean = find_replace_na(df_train,df_train_row_count)\n",
    "df_test_clean = find_replace_na(df_test,df_test_row_count)\n",
    "#print(na_val_dict)"
   ]
  },
  {
   "cell_type": "markdown",
   "metadata": {},
   "source": [
    "### REMOVE LABELLED COLUMN FROM DATASET TO CREATE A SEPARATE ARRAY FOR FEATUERS AND LABELS"
   ]
  },
  {
   "cell_type": "code",
   "execution_count": 5,
   "metadata": {},
   "outputs": [],
   "source": [
    "#remove labelled column\n",
    "train_clean_label = df_train_clean.C244.values\n",
    "test_clean_label = df_test_clean.C244.values\n",
    "df_train_clean_features = df_train_clean.drop(columns=[\"C244\"])\n",
    "df_test_clean_features = df_test_clean.drop(columns=[\"C244\"])"
   ]
  },
  {
   "cell_type": "markdown",
   "metadata": {},
   "source": [
    "### TRAIN AND PREDICT SVM MODEL"
   ]
  },
  {
   "cell_type": "code",
   "execution_count": 6,
   "metadata": {},
   "outputs": [
    {
     "data": {
      "text/plain": [
       "OneClassSVM(cache_size=200, coef0=0.1, degree=3, gamma=0.1, kernel='rbf',\n",
       "            max_iter=-1, nu=0.05, random_state=None, shrinking=True, tol=0.001,\n",
       "            verbose=False)"
      ]
     },
     "execution_count": 6,
     "metadata": {},
     "output_type": "execute_result"
    }
   ],
   "source": [
    "from sklearn import svm\n",
    "\n",
    "clf = svm.OneClassSVM(nu=0.05, kernel=\"rbf\",gamma=0.1,coef0 = 0.1) \n",
    "clf.fit(df_train_clean_features.values)"
   ]
  },
  {
   "cell_type": "code",
   "execution_count": 7,
   "metadata": {},
   "outputs": [],
   "source": [
    "#Predict model and replace -1 with 0 to math our test labels\n",
    "pred_test = clf.predict(df_test_clean_features.values)\n",
    "for ind,item in enumerate(pred_test):\n",
    "    if item == -1:\n",
    "        pred_test[ind] = 0"
   ]
  },
  {
   "cell_type": "markdown",
   "metadata": {},
   "source": [
    "### EVALUATE SVM MODEL"
   ]
  },
  {
   "cell_type": "code",
   "execution_count": 8,
   "metadata": {},
   "outputs": [
    {
     "name": "stdout",
     "output_type": "stream",
     "text": [
      "precision: 0.90  recall: 0.92  f1: 0.91\n",
      "accuracy: 0.87\n"
     ]
    }
   ],
   "source": [
    "tn, fp, fn, tp = confusion_matrix(test_clean_label, pred_test).ravel()\n",
    "precision = tp / (tp+fp)\n",
    "recall = tp / (tp + fn)\n",
    "f1 = 2 * ((precision * recall) / (precision + recall))\n",
    "print (\"precision: %.2f  recall: %.2f  f1: %.2f\" % (precision,recall,f1))\n",
    "print(\"accuracy: %.2f\" % accuracy_score(test_clean_label, pred_test))"
   ]
  },
  {
   "cell_type": "markdown",
   "metadata": {},
   "source": [
    "### ROUGH WORK - ALTERNATIVE METHOD THAT COULD BE USED WITH 2 LABELLED DATA"
   ]
  },
  {
   "cell_type": "code",
   "execution_count": 103,
   "metadata": {},
   "outputs": [],
   "source": [
    "# Build neural network\n",
    "drop_outval = 0.2\n",
    "model = Sequential()\n",
    "model.add(Dense(500, activation='relu', input_dim=df_train_clean_features.shape[1]))\n",
    "#model.add(Dropout(0.5))\n",
    "model.add(Dropout(drop_outval))\n",
    "model.add(Dense(300, activation='relu'))\n",
    "#model.add(Dropout(0.25))\n",
    "model.add(Dropout(drop_outval))\n",
    "model.add(Dense(200, activation='relu'))\n",
    "model.add(Dropout(drop_outval))\n",
    "model.add(Dense(100, activation='relu'))\n",
    "model.add(Dense(1, activation='sigmoid'))\n",
    "\n",
    "# Compile neural network\n",
    "model.compile(optimizer='sgd', loss='binary_crossentropy', metrics=['accuracy'])"
   ]
  },
  {
   "cell_type": "code",
   "execution_count": 104,
   "metadata": {},
   "outputs": [
    {
     "name": "stdout",
     "output_type": "stream",
     "text": [
      "Train on 2833 samples, validate on 959 samples\n",
      "Epoch 1/100\n",
      "2833/2833 [==============================] - 2s 739us/step - loss: 0.0237 - acc: 0.9996 - val_loss: 1.7393 - val_acc: 0.7153\n",
      "Epoch 2/100\n",
      "2833/2833 [==============================] - 1s 437us/step - loss: 0.0011 - acc: 1.0000 - val_loss: 2.0054 - val_acc: 0.7153\n",
      "Epoch 3/100\n",
      "2833/2833 [==============================] - 1s 441us/step - loss: 5.7100e-04 - acc: 1.0000 - val_loss: 2.1623 - val_acc: 0.7153\n",
      "Epoch 4/100\n",
      "2833/2833 [==============================] - 1s 438us/step - loss: 3.8690e-04 - acc: 1.0000 - val_loss: 2.2763 - val_acc: 0.7153\n",
      "Epoch 5/100\n",
      "2833/2833 [==============================] - 1s 441us/step - loss: 2.7395e-04 - acc: 1.0000 - val_loss: 2.3612 - val_acc: 0.7153\n",
      "Epoch 6/100\n",
      "2833/2833 [==============================] - 1s 440us/step - loss: 2.0811e-04 - acc: 1.0000 - val_loss: 2.4297 - val_acc: 0.7153\n",
      "Epoch 7/100\n",
      "2833/2833 [==============================] - 1s 444us/step - loss: 1.9329e-04 - acc: 1.0000 - val_loss: 2.4936 - val_acc: 0.7153\n",
      "Epoch 8/100\n",
      "2833/2833 [==============================] - 1s 443us/step - loss: 1.5529e-04 - acc: 1.0000 - val_loss: 2.5466 - val_acc: 0.7153\n",
      "Epoch 9/100\n",
      "2833/2833 [==============================] - 1s 444us/step - loss: 1.3465e-04 - acc: 1.0000 - val_loss: 2.5936 - val_acc: 0.7153\n",
      "Epoch 10/100\n",
      "2833/2833 [==============================] - 1s 439us/step - loss: 1.0804e-04 - acc: 1.0000 - val_loss: 2.6332 - val_acc: 0.7153\n",
      "Epoch 11/100\n",
      "2833/2833 [==============================] - 1s 446us/step - loss: 1.0458e-04 - acc: 1.0000 - val_loss: 2.6714 - val_acc: 0.7153\n",
      "Epoch 12/100\n",
      "2833/2833 [==============================] - 1s 440us/step - loss: 8.4530e-05 - acc: 1.0000 - val_loss: 2.7030 - val_acc: 0.7153\n",
      "Epoch 13/100\n",
      "2833/2833 [==============================] - 1s 437us/step - loss: 8.5885e-05 - acc: 1.0000 - val_loss: 2.7351 - val_acc: 0.7153\n",
      "Epoch 14/100\n",
      "2833/2833 [==============================] - 1s 446us/step - loss: 7.1411e-05 - acc: 1.0000 - val_loss: 2.7628 - val_acc: 0.7153\n",
      "Epoch 15/100\n",
      "2833/2833 [==============================] - 1s 482us/step - loss: 6.6558e-05 - acc: 1.0000 - val_loss: 2.7891 - val_acc: 0.7153\n",
      "Epoch 16/100\n",
      "2833/2833 [==============================] - 2s 560us/step - loss: 6.9770e-05 - acc: 1.0000 - val_loss: 2.8159 - val_acc: 0.7153\n",
      "Epoch 17/100\n",
      "2833/2833 [==============================] - 1s 448us/step - loss: 5.6072e-05 - acc: 1.0000 - val_loss: 2.8383 - val_acc: 0.7153\n",
      "Epoch 18/100\n",
      "2833/2833 [==============================] - 1s 420us/step - loss: 5.5794e-05 - acc: 1.0000 - val_loss: 2.8603 - val_acc: 0.7153\n",
      "Epoch 19/100\n",
      "2833/2833 [==============================] - 1s 422us/step - loss: 4.9928e-05 - acc: 1.0000 - val_loss: 2.8809 - val_acc: 0.7153\n",
      "Epoch 20/100\n",
      "2833/2833 [==============================] - 1s 430us/step - loss: 4.7687e-05 - acc: 1.0000 - val_loss: 2.9007 - val_acc: 0.7153\n",
      "Epoch 21/100\n",
      "2833/2833 [==============================] - 1s 445us/step - loss: 4.4027e-05 - acc: 1.0000 - val_loss: 2.9186 - val_acc: 0.7153\n",
      "Epoch 22/100\n",
      "2833/2833 [==============================] - 1s 442us/step - loss: 4.6770e-05 - acc: 1.0000 - val_loss: 2.9378 - val_acc: 0.7153\n",
      "Epoch 23/100\n",
      "2833/2833 [==============================] - 1s 443us/step - loss: 3.9487e-05 - acc: 1.0000 - val_loss: 2.9545 - val_acc: 0.7153\n",
      "Epoch 24/100\n",
      "2833/2833 [==============================] - 1s 529us/step - loss: 3.8595e-05 - acc: 1.0000 - val_loss: 2.9708 - val_acc: 0.7153\n",
      "Epoch 25/100\n",
      "2833/2833 [==============================] - 1s 413us/step - loss: 3.7056e-05 - acc: 1.0000 - val_loss: 2.9868 - val_acc: 0.7153\n",
      "Epoch 26/100\n",
      "2833/2833 [==============================] - 1s 410us/step - loss: 3.5849e-05 - acc: 1.0000 - val_loss: 3.0018 - val_acc: 0.7153\n",
      "Epoch 27/100\n",
      "2833/2833 [==============================] - 1s 408us/step - loss: 3.4790e-05 - acc: 1.0000 - val_loss: 3.0167 - val_acc: 0.7153\n",
      "Epoch 28/100\n",
      "2833/2833 [==============================] - 1s 410us/step - loss: 3.2990e-05 - acc: 1.0000 - val_loss: 3.0310 - val_acc: 0.7153\n",
      "Epoch 29/100\n",
      "2833/2833 [==============================] - 1s 409us/step - loss: 3.7035e-05 - acc: 1.0000 - val_loss: 3.0464 - val_acc: 0.7153\n",
      "Epoch 30/100\n",
      "2833/2833 [==============================] - 1s 411us/step - loss: 2.7821e-05 - acc: 1.0000 - val_loss: 3.0583 - val_acc: 0.7153\n",
      "Epoch 31/100\n",
      "2833/2833 [==============================] - 1s 406us/step - loss: 3.0387e-05 - acc: 1.0000 - val_loss: 3.0716 - val_acc: 0.7153\n",
      "Epoch 32/100\n",
      "2833/2833 [==============================] - 1s 408us/step - loss: 2.6175e-05 - acc: 1.0000 - val_loss: 3.0832 - val_acc: 0.7153\n",
      "Epoch 33/100\n",
      "2833/2833 [==============================] - 1s 410us/step - loss: 2.4770e-05 - acc: 1.0000 - val_loss: 3.0941 - val_acc: 0.7153\n",
      "Epoch 34/100\n",
      "2833/2833 [==============================] - 1s 448us/step - loss: 2.4019e-05 - acc: 1.0000 - val_loss: 3.1055 - val_acc: 0.7153\n",
      "Epoch 35/100\n",
      "2833/2833 [==============================] - 1s 492us/step - loss: 2.5802e-05 - acc: 1.0000 - val_loss: 3.1168 - val_acc: 0.7153\n",
      "Epoch 36/100\n",
      "2833/2833 [==============================] - 1s 410us/step - loss: 2.4068e-05 - acc: 1.0000 - val_loss: 3.1275 - val_acc: 0.7153\n",
      "Epoch 37/100\n",
      "2833/2833 [==============================] - 1s 407us/step - loss: 2.2324e-05 - acc: 1.0000 - val_loss: 3.1371 - val_acc: 0.7153\n",
      "Epoch 38/100\n",
      "2833/2833 [==============================] - 1s 405us/step - loss: 2.5146e-05 - acc: 1.0000 - val_loss: 3.1483 - val_acc: 0.7153\n",
      "Epoch 39/100\n",
      "2833/2833 [==============================] - 1s 408us/step - loss: 2.1626e-05 - acc: 1.0000 - val_loss: 3.1583 - val_acc: 0.7153\n",
      "Epoch 40/100\n",
      "2833/2833 [==============================] - 1s 406us/step - loss: 2.1485e-05 - acc: 1.0000 - val_loss: 3.1685 - val_acc: 0.7153\n",
      "Epoch 41/100\n",
      "2833/2833 [==============================] - 1s 406us/step - loss: 2.1582e-05 - acc: 1.0000 - val_loss: 3.1784 - val_acc: 0.7153\n",
      "Epoch 42/100\n",
      "2833/2833 [==============================] - 1s 409us/step - loss: 2.0466e-05 - acc: 1.0000 - val_loss: 3.1868 - val_acc: 0.7153\n",
      "Epoch 43/100\n",
      "2833/2833 [==============================] - 1s 412us/step - loss: 1.9054e-05 - acc: 1.0000 - val_loss: 3.1960 - val_acc: 0.7153\n",
      "Epoch 44/100\n",
      "2833/2833 [==============================] - 1s 407us/step - loss: 1.8375e-05 - acc: 1.0000 - val_loss: 3.2046 - val_acc: 0.7153\n",
      "Epoch 45/100\n",
      "2833/2833 [==============================] - 1s 410us/step - loss: 1.8889e-05 - acc: 1.0000 - val_loss: 3.2134 - val_acc: 0.7153\n",
      "Epoch 46/100\n",
      "2833/2833 [==============================] - 1s 408us/step - loss: 1.9491e-05 - acc: 1.0000 - val_loss: 3.2225 - val_acc: 0.7153\n",
      "Epoch 47/100\n",
      "2833/2833 [==============================] - 1s 447us/step - loss: 1.8256e-05 - acc: 1.0000 - val_loss: 3.2308 - val_acc: 0.7153\n",
      "Epoch 48/100\n",
      "2833/2833 [==============================] - 1s 440us/step - loss: 1.7232e-05 - acc: 1.0000 - val_loss: 3.2388 - val_acc: 0.7153\n",
      "Epoch 49/100\n",
      "2833/2833 [==============================] - 1s 428us/step - loss: 1.5737e-05 - acc: 1.0000 - val_loss: 3.2464 - val_acc: 0.7153\n",
      "Epoch 50/100\n",
      "2833/2833 [==============================] - 1s 407us/step - loss: 1.5976e-05 - acc: 1.0000 - val_loss: 3.2542 - val_acc: 0.7153\n",
      "Epoch 51/100\n",
      "2833/2833 [==============================] - 1s 411us/step - loss: 1.6619e-05 - acc: 1.0000 - val_loss: 3.2616 - val_acc: 0.7153\n",
      "Epoch 52/100\n",
      "2833/2833 [==============================] - 1s 450us/step - loss: 1.7157e-05 - acc: 1.0000 - val_loss: 3.2697 - val_acc: 0.7153\n",
      "Epoch 53/100\n",
      "2833/2833 [==============================] - 1s 460us/step - loss: 1.6373e-05 - acc: 1.0000 - val_loss: 3.2775 - val_acc: 0.7153\n",
      "Epoch 54/100\n",
      "2833/2833 [==============================] - 1s 510us/step - loss: 1.5645e-05 - acc: 1.0000 - val_loss: 3.2855 - val_acc: 0.7153\n",
      "Epoch 55/100\n",
      "2833/2833 [==============================] - 1s 453us/step - loss: 1.4689e-05 - acc: 1.0000 - val_loss: 3.2927 - val_acc: 0.7153\n",
      "Epoch 56/100\n",
      "2833/2833 [==============================] - 1s 471us/step - loss: 1.3936e-05 - acc: 1.0000 - val_loss: 3.2988 - val_acc: 0.7153\n",
      "Epoch 57/100\n",
      "2833/2833 [==============================] - 1s 481us/step - loss: 1.4259e-05 - acc: 1.0000 - val_loss: 3.3057 - val_acc: 0.7153\n",
      "Epoch 58/100\n",
      "2833/2833 [==============================] - 1s 429us/step - loss: 1.4406e-05 - acc: 1.0000 - val_loss: 3.3133 - val_acc: 0.7153\n",
      "Epoch 59/100\n",
      "2833/2833 [==============================] - 1s 422us/step - loss: 1.2869e-05 - acc: 1.0000 - val_loss: 3.3192 - val_acc: 0.7153\n",
      "Epoch 60/100\n",
      "2833/2833 [==============================] - 1s 424us/step - loss: 1.3987e-05 - acc: 1.0000 - val_loss: 3.3259 - val_acc: 0.7153\n",
      "Epoch 61/100\n",
      "2833/2833 [==============================] - 1s 422us/step - loss: 1.3612e-05 - acc: 1.0000 - val_loss: 3.3316 - val_acc: 0.7153\n",
      "Epoch 62/100\n",
      "2833/2833 [==============================] - 1s 422us/step - loss: 1.2386e-05 - acc: 1.0000 - val_loss: 3.3393 - val_acc: 0.7153\n",
      "Epoch 63/100\n",
      "2833/2833 [==============================] - 1s 432us/step - loss: 1.2638e-05 - acc: 1.0000 - val_loss: 3.3440 - val_acc: 0.7153\n",
      "Epoch 64/100\n",
      "2833/2833 [==============================] - 1s 475us/step - loss: 1.1325e-05 - acc: 1.0000 - val_loss: 3.3508 - val_acc: 0.7153\n",
      "Epoch 65/100\n",
      "2833/2833 [==============================] - 1s 424us/step - loss: 1.2918e-05 - acc: 1.0000 - val_loss: 3.3561 - val_acc: 0.7153\n",
      "Epoch 66/100\n",
      "2833/2833 [==============================] - 1s 424us/step - loss: 1.0884e-05 - acc: 1.0000 - val_loss: 3.3607 - val_acc: 0.7153\n",
      "Epoch 67/100\n",
      "2833/2833 [==============================] - 1s 426us/step - loss: 1.2703e-05 - acc: 1.0000 - val_loss: 3.3681 - val_acc: 0.7153\n",
      "Epoch 68/100\n",
      "2833/2833 [==============================] - 1s 429us/step - loss: 1.3532e-05 - acc: 1.0000 - val_loss: 3.3741 - val_acc: 0.7153\n",
      "Epoch 69/100\n",
      "2833/2833 [==============================] - 1s 423us/step - loss: 1.1818e-05 - acc: 1.0000 - val_loss: 3.3800 - val_acc: 0.7153\n",
      "Epoch 70/100\n",
      "2833/2833 [==============================] - 1s 423us/step - loss: 1.0972e-05 - acc: 1.0000 - val_loss: 3.3868 - val_acc: 0.7153\n",
      "Epoch 71/100\n",
      "2833/2833 [==============================] - 1s 423us/step - loss: 9.3865e-06 - acc: 1.0000 - val_loss: 3.3914 - val_acc: 0.7153\n",
      "Epoch 72/100\n",
      "2833/2833 [==============================] - 1s 426us/step - loss: 9.4706e-06 - acc: 1.0000 - val_loss: 3.3958 - val_acc: 0.7153\n",
      "Epoch 73/100\n",
      "2833/2833 [==============================] - 1s 427us/step - loss: 9.9508e-06 - acc: 1.0000 - val_loss: 3.4005 - val_acc: 0.7153\n",
      "Epoch 74/100\n",
      "2833/2833 [==============================] - 1s 425us/step - loss: 1.0786e-05 - acc: 1.0000 - val_loss: 3.4055 - val_acc: 0.7153\n",
      "Epoch 75/100\n",
      "2833/2833 [==============================] - 1s 421us/step - loss: 1.0121e-05 - acc: 1.0000 - val_loss: 3.4099 - val_acc: 0.7153\n",
      "Epoch 76/100\n",
      "2833/2833 [==============================] - 1s 428us/step - loss: 1.0159e-05 - acc: 1.0000 - val_loss: 3.4158 - val_acc: 0.7153\n",
      "Epoch 77/100\n",
      "2833/2833 [==============================] - 1s 422us/step - loss: 1.0395e-05 - acc: 1.0000 - val_loss: 3.4221 - val_acc: 0.7153\n",
      "Epoch 78/100\n",
      "2833/2833 [==============================] - 1s 437us/step - loss: 1.1678e-05 - acc: 1.0000 - val_loss: 3.4279 - val_acc: 0.7153\n",
      "Epoch 79/100\n",
      "2833/2833 [==============================] - 1s 464us/step - loss: 9.6520e-06 - acc: 1.0000 - val_loss: 3.4310 - val_acc: 0.7153\n",
      "Epoch 80/100\n",
      "2833/2833 [==============================] - 1s 461us/step - loss: 1.0059e-05 - acc: 1.0000 - val_loss: 3.4381 - val_acc: 0.7153\n",
      "Epoch 81/100\n",
      "2833/2833 [==============================] - 1s 426us/step - loss: 1.1008e-05 - acc: 1.0000 - val_loss: 3.4429 - val_acc: 0.7153\n",
      "Epoch 82/100\n",
      "2833/2833 [==============================] - 1s 425us/step - loss: 9.5264e-06 - acc: 1.0000 - val_loss: 3.4492 - val_acc: 0.7153\n",
      "Epoch 83/100\n",
      "2833/2833 [==============================] - 1s 422us/step - loss: 9.6116e-06 - acc: 1.0000 - val_loss: 3.4525 - val_acc: 0.7153\n",
      "Epoch 84/100\n",
      "2833/2833 [==============================] - 1s 429us/step - loss: 8.5033e-06 - acc: 1.0000 - val_loss: 3.4582 - val_acc: 0.7153\n",
      "Epoch 85/100\n",
      "2833/2833 [==============================] - 1s 430us/step - loss: 9.2003e-06 - acc: 1.0000 - val_loss: 3.4598 - val_acc: 0.7153\n",
      "Epoch 86/100\n",
      "2833/2833 [==============================] - 1s 426us/step - loss: 8.7014e-06 - acc: 1.0000 - val_loss: 3.4662 - val_acc: 0.7153\n",
      "Epoch 87/100\n",
      "2833/2833 [==============================] - 1s 441us/step - loss: 8.3444e-06 - acc: 1.0000 - val_loss: 3.4690 - val_acc: 0.7153\n",
      "Epoch 88/100\n",
      "2833/2833 [==============================] - 1s 501us/step - loss: 9.5217e-06 - acc: 1.0000 - val_loss: 3.4744 - val_acc: 0.7153\n",
      "Epoch 89/100\n",
      "2833/2833 [==============================] - 1s 426us/step - loss: 8.1295e-06 - acc: 1.0000 - val_loss: 3.4787 - val_acc: 0.7153\n",
      "Epoch 90/100\n",
      "2833/2833 [==============================] - 1s 422us/step - loss: 7.8696e-06 - acc: 1.0000 - val_loss: 3.4825 - val_acc: 0.7153\n",
      "Epoch 91/100\n",
      "2833/2833 [==============================] - 1s 426us/step - loss: 8.3387e-06 - acc: 1.0000 - val_loss: 3.4880 - val_acc: 0.7153\n",
      "Epoch 92/100\n",
      "2833/2833 [==============================] - 1s 424us/step - loss: 7.9449e-06 - acc: 1.0000 - val_loss: 3.4913 - val_acc: 0.7153\n",
      "Epoch 93/100\n",
      "2833/2833 [==============================] - 1s 424us/step - loss: 8.3786e-06 - acc: 1.0000 - val_loss: 3.4956 - val_acc: 0.7153\n",
      "Epoch 94/100\n",
      "2833/2833 [==============================] - 1s 427us/step - loss: 7.9102e-06 - acc: 1.0000 - val_loss: 3.5000 - val_acc: 0.7153\n",
      "Epoch 95/100\n",
      "2833/2833 [==============================] - 1s 425us/step - loss: 8.4703e-06 - acc: 1.0000 - val_loss: 3.5038 - val_acc: 0.7153\n",
      "Epoch 96/100\n",
      "2833/2833 [==============================] - 1s 427us/step - loss: 7.6210e-06 - acc: 1.0000 - val_loss: 3.5068 - val_acc: 0.7153\n",
      "Epoch 97/100\n",
      "2833/2833 [==============================] - 1s 423us/step - loss: 7.2387e-06 - acc: 1.0000 - val_loss: 3.5120 - val_acc: 0.7153\n",
      "Epoch 98/100\n",
      "2833/2833 [==============================] - 1s 427us/step - loss: 8.0467e-06 - acc: 1.0000 - val_loss: 3.5145 - val_acc: 0.7153\n",
      "Epoch 99/100\n",
      "2833/2833 [==============================] - 1s 426us/step - loss: 7.8391e-06 - acc: 1.0000 - val_loss: 3.5197 - val_acc: 0.7153\n",
      "Epoch 100/100\n",
      "2833/2833 [==============================] - 1s 426us/step - loss: 6.9455e-06 - acc: 1.0000 - val_loss: 3.5220 - val_acc: 0.7153\n"
     ]
    }
   ],
   "source": [
    "# Fit the model\n",
    "history = model.fit(df_train_clean_features.values, train_clean_label, epochs=100, batch_size=10, validation_data=(df_test_clean_features.values, test_clean_label))\n",
    "\n"
   ]
  },
  {
   "cell_type": "code",
   "execution_count": 105,
   "metadata": {},
   "outputs": [
    {
     "data": {
      "image/png": "[encoded data removed]",
      "text/plain": [
       "<Figure size 432x288 with 1 Axes>"
      ]
     },
     "metadata": {
      "needs_background": "light"
     },
     "output_type": "display_data"
    }
   ],
   "source": [
    "loss = history.history['loss']\n",
    "val_loss = history.history['val_loss']\n",
    "epochs = range(1, len(loss) + 1)\n",
    "plt.plot(epochs, loss, 'bo', label='Training loss')\n",
    "plt.plot(epochs, val_loss, 'b', label='Validation loss')\n",
    "plt.title('Training and validation loss')\n",
    "plt.xlabel('Epochs')\n",
    "plt.ylabel('Loss')\n",
    "plt.legend()\n",
    "plt.show()"
   ]
  },
  {
   "cell_type": "code",
   "execution_count": 106,
   "metadata": {},
   "outputs": [
    {
     "data": {
      "image/png": "[encoded data removed]",
      "text/plain": [
       "<Figure size 432x288 with 1 Axes>"
      ]
     },
     "metadata": {
      "needs_background": "light"
     },
     "output_type": "display_data"
    }
   ],
   "source": [
    "plt.clf()\n",
    "acc = history.history['acc']\n",
    "val_acc = history.history['val_acc']\n",
    "plt.plot(epochs, acc, 'bo', label='Training acc')\n",
    "plt.plot(epochs, val_acc, 'b', label='Validation acc')\n",
    "plt.title('Training and validation accuracy')\n",
    "plt.xlabel('Epochs')\n",
    "plt.ylabel('Acc')\n",
    "plt.legend()\n",
    "plt.show()"
   ]
  },
  {
   "cell_type": "code",
   "execution_count": 110,
   "metadata": {},
   "outputs": [
    {
     "data": {
      "text/plain": [
       "0.7153284671532847"
      ]
     },
     "execution_count": 110,
     "metadata": {},
     "output_type": "execute_result"
    }
   ],
   "source": [
    "pred = model.predict(df_test_clean_features.values)\n",
    "pred = np.round(pred*100,decimals=0)\n",
    "pred = np.where(pred >= 70, 1, 0)\n",
    "\n",
    "accuracy_score(test_clean_label, pred)"
   ]
  },
  {
   "cell_type": "code",
   "execution_count": 111,
   "metadata": {},
   "outputs": [],
   "source": [
    "#test_clean_label"
   ]
  },
  {
   "cell_type": "code",
   "execution_count": 114,
   "metadata": {},
   "outputs": [
    {
     "data": {
      "text/plain": [
       "0.7153284671532847"
      ]
     },
     "execution_count": 114,
     "metadata": {},
     "output_type": "execute_result"
    }
   ],
   "source": [
    "predictions = clf.predict(df_test_clean_features.values)\n",
    "accuracy_score(test_clean_label, predictions)"
   ]
  },
  {
   "cell_type": "code",
   "execution_count": null,
   "metadata": {},
   "outputs": [],
   "source": []
  }
 ],
 "metadata": {
  "kernelspec": {
   "display_name": "Python 3",
   "language": "python",
   "name": "python3"
  },
  "language_info": {
   "codemirror_mode": {
    "name": "ipython",
    "version": 3
   },
   "file_extension": ".py",
   "mimetype": "text/x-python",
   "name": "python",
   "nbconvert_exporter": "python",
   "pygments_lexer": "ipython3",
   "version": "3.7.3"
  }
 },
 "nbformat": 4,
 "nbformat_minor": 2
}
